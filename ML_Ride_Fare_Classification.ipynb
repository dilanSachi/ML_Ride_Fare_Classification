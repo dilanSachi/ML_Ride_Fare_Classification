{
  "nbformat": 4,
  "nbformat_minor": 0,
  "metadata": {
    "colab": {
      "name": "ML_Ride_Fare_Classification.ipynb",
      "provenance": [],
      "authorship_tag": "ABX9TyOr+be/lYOPZyu5I7+PKN0r",
      "include_colab_link": true
    },
    "kernelspec": {
      "name": "python3",
      "display_name": "Python 3"
    }
  },
  "cells": [
    {
      "cell_type": "markdown",
      "metadata": {
        "id": "view-in-github",
        "colab_type": "text"
      },
      "source": [
        "<a href=\"https://colab.research.google.com/github/dilanSachi/ML_Ride_Fare_Classification/blob/master/ML_Ride_Fare_Classification.ipynb\" target=\"_parent\"><img src=\"https://colab.research.google.com/assets/colab-badge.svg\" alt=\"Open In Colab\"/></a>"
      ]
    },
    {
      "cell_type": "code",
      "metadata": {
        "id": "CMdQehEfamzz",
        "colab_type": "code",
        "colab": {}
      },
      "source": [
        "import pandas as pd\n",
        "import numpy as np\n",
        "import matplotlib.pyplot as plt\n",
        "from sklearn.compose import ColumnTransformer\n",
        "from sklearn.pipeline import Pipeline\n",
        "from sklearn.impute import SimpleImputer\n",
        "from sklearn.preprocessing import OneHotEncoder\n",
        "from sklearn.model_selection import train_test_split"
      ],
      "execution_count": null,
      "outputs": []
    },
    {
      "cell_type": "code",
      "metadata": {
        "id": "JXvCSZmLatKA",
        "colab_type": "code",
        "colab": {}
      },
      "source": [
        "training_data = pd.read_csv('./train.csv')\n",
        "testing_data = pd.read_csv('./test.csv')"
      ],
      "execution_count": null,
      "outputs": []
    },
    {
      "cell_type": "code",
      "metadata": {
        "id": "JNUvse-jGjRp",
        "colab_type": "code",
        "colab": {}
      },
      "source": [
        "training_data.label = training_data.label.map({'correct':1,'incorrect':0})"
      ],
      "execution_count": null,
      "outputs": []
    },
    {
      "cell_type": "code",
      "metadata": {
        "id": "i9rlHo1lkzI_",
        "colab_type": "code",
        "colab": {}
      },
      "source": [
        "training_labels = training_data.pop(\"label\")"
      ],
      "execution_count": null,
      "outputs": []
    },
    {
      "cell_type": "code",
      "metadata": {
        "id": "A1f7tlC6oqYD",
        "colab_type": "code",
        "colab": {}
      },
      "source": [
        "training_data['pickup_time'] = pd.to_datetime(training_data['pickup_time'])\n",
        "testing_data['pickup_time'] = pd.to_datetime(testing_data['pickup_time'])"
      ],
      "execution_count": null,
      "outputs": []
    },
    {
      "cell_type": "code",
      "metadata": {
        "id": "bpT7KN4Ioqa9",
        "colab_type": "code",
        "colab": {}
      },
      "source": [
        "training_data['drop_time'] = pd.to_datetime(training_data['drop_time'])\n",
        "testing_data['drop_time'] = pd.to_datetime(testing_data['drop_time'])"
      ],
      "execution_count": null,
      "outputs": []
    },
    {
      "cell_type": "code",
      "metadata": {
        "id": "7rBVFgtZoqgE",
        "colab_type": "code",
        "colab": {}
      },
      "source": [
        "durations_trdata = training_data.apply(lambda row: (row.drop_time - row.pickup_time).total_seconds(), axis=1)\n",
        "durations_tsdata = testing_data.apply(lambda row: (row.drop_time - row.pickup_time).total_seconds(), axis=1)"
      ],
      "execution_count": null,
      "outputs": []
    },
    {
      "cell_type": "code",
      "metadata": {
        "id": "kQ09y0lkoqiw",
        "colab_type": "code",
        "colab": {}
      },
      "source": [
        "for i in range(len(training_data[\"duration\"])):\n",
        "  if ((np.isnan(training_data[\"duration\"][i])) | (training_data[\"duration\"][i]==0)):\n",
        "    training_data.at[i, 'duration'] = durations_trdata[i]\n",
        "for i in range(len(testing_data[\"duration\"])):\n",
        "  if ((np.isnan(testing_data[\"duration\"][i])) | (testing_data[\"duration\"][i]==0)):\n",
        "    testing_data.at[i, 'duration'] = durations_tsdata[i]"
      ],
      "execution_count": null,
      "outputs": []
    },
    {
      "cell_type": "code",
      "metadata": {
        "id": "lIrx--2O4xaR",
        "colab_type": "code",
        "colab": {}
      },
      "source": [
        "training_data.drop(\"tripid\", axis=1, inplace=True)\n",
        "training_data.drop(\"pickup_time\", axis=1, inplace=True)\n",
        "training_data.drop(\"drop_time\", axis=1, inplace=True)\n",
        "\n",
        "testing_data.drop(\"tripid\", axis=1, inplace=True)\n",
        "testing_data.drop(\"pickup_time\", axis=1, inplace=True)\n",
        "testing_data.drop(\"drop_time\", axis=1, inplace=True)"
      ],
      "execution_count": null,
      "outputs": []
    },
    {
      "cell_type": "code",
      "metadata": {
        "id": "WsdKXvXI9QAi",
        "colab_type": "code",
        "colab": {}
      },
      "source": [
        "!pip install pyproj\n",
        "from pyproj import Geod"
      ],
      "execution_count": null,
      "outputs": []
    },
    {
      "cell_type": "code",
      "metadata": {
        "id": "oFla6REO4xdQ",
        "colab_type": "code",
        "colab": {}
      },
      "source": [
        "wgs84_geod = Geod(ellps='WGS84')\n",
        "def Distance(lat1,lon1,lat2,lon2):\n",
        "  az12,az21,dist = wgs84_geod.inv(lon1,lat1,lon2,lat2)\n",
        "  return dist"
      ],
      "execution_count": null,
      "outputs": []
    },
    {
      "cell_type": "code",
      "metadata": {
        "id": "LE4XK-G06x6W",
        "colab_type": "code",
        "colab": {}
      },
      "source": [
        "distances_tr = Distance(training_data.pick_lat.to_list(),\n",
        "                     training_data.pick_lon.to_list(),\n",
        "                     training_data.drop_lat.to_list(),\n",
        "                     training_data.drop_lon.to_list())\n",
        "\n",
        "distances_ts = Distance(testing_data.pick_lat.to_list(),\n",
        "                     testing_data.pick_lon.to_list(),\n",
        "                     testing_data.drop_lat.to_list(),\n",
        "                     testing_data.drop_lon.to_list())"
      ],
      "execution_count": null,
      "outputs": []
    },
    {
      "cell_type": "code",
      "metadata": {
        "id": "pC12ojO_6x91",
        "colab_type": "code",
        "colab": {}
      },
      "source": [
        "training_data[\"distance\"]=distances_tr\n",
        "testing_data[\"distance\"]=distances_ts"
      ],
      "execution_count": null,
      "outputs": []
    },
    {
      "cell_type": "code",
      "metadata": {
        "id": "ATFxwM096yBP",
        "colab_type": "code",
        "colab": {}
      },
      "source": [
        "training_data.drop(\"pick_lat\", axis=1, inplace=True)\n",
        "training_data.drop(\"pick_lon\", axis=1, inplace=True)\n",
        "training_data.drop(\"drop_lat\", axis=1, inplace=True)\n",
        "training_data.drop(\"drop_lon\", axis=1, inplace=True)\n",
        "\n",
        "testing_data.drop(\"pick_lat\", axis=1, inplace=True)\n",
        "testing_data.drop(\"pick_lon\", axis=1, inplace=True)\n",
        "testing_data.drop(\"drop_lat\", axis=1, inplace=True)\n",
        "testing_data.drop(\"drop_lon\", axis=1, inplace=True)"
      ],
      "execution_count": null,
      "outputs": []
    },
    {
      "cell_type": "code",
      "metadata": {
        "id": "5YxvJ1PzWFeh",
        "colab_type": "code",
        "colab": {}
      },
      "source": [
        "cols_with_missing = [col for col in training_data.columns\n",
        "                     if training_data[col].isnull().any()]"
      ],
      "execution_count": null,
      "outputs": []
    },
    {
      "cell_type": "code",
      "metadata": {
        "id": "eYu8YKYpWFcn",
        "colab_type": "code",
        "colab": {}
      },
      "source": [
        "# Make copy to avoid changing original data (when imputing)\n",
        "training_data_plus = training_data.copy()\n",
        "testing_data_plus = testing_data.copy()\n",
        "\n",
        "# Make new columns indicating what will be imputed\n",
        "for col in cols_with_missing:\n",
        "    training_data_plus[col + '_was_missing'] = training_data_plus[col].isnull()\n",
        "    testing_data_plus[col + '_was_missing'] = testing_data_plus[col].isnull()\n",
        "\n",
        "# Imputation\n",
        "my_imputer = SimpleImputer(strategy='median')\n",
        "imputed_training_data_plus = pd.DataFrame(my_imputer.fit_transform(training_data_plus))\n",
        "imputed_testing_data_plus = pd.DataFrame(my_imputer.transform(testing_data_plus))\n",
        "\n",
        "# Imputation removed column names; put them back\n",
        "imputed_training_data_plus.columns = training_data_plus.columns\n",
        "imputed_testing_data_plus.columns = testing_data_plus.columns"
      ],
      "execution_count": null,
      "outputs": []
    },
    {
      "cell_type": "code",
      "metadata": {
        "id": "r1xughavGCzh",
        "colab_type": "code",
        "colab": {}
      },
      "source": [
        "# Inserting additional features"
      ],
      "execution_count": null,
      "outputs": []
    },
    {
      "cell_type": "code",
      "metadata": {
        "id": "WBPspPGUGGyG",
        "colab_type": "code",
        "colab": {}
      },
      "source": [
        "imputed_training_data_plus['feature_1'] = (imputed_training_data_plus['duration'] - imputed_training_data_plus['meter_waiting'])/imputed_training_data_plus['fare']\n",
        "imputed_testing_data_plus['feature_1'] = (imputed_testing_data_plus['duration'] - imputed_testing_data_plus['meter_waiting'])/imputed_testing_data_plus['fare']"
      ],
      "execution_count": null,
      "outputs": []
    },
    {
      "cell_type": "code",
      "metadata": {
        "id": "tLuKPz0bQpoR",
        "colab_type": "code",
        "colab": {}
      },
      "source": [
        "imputed_training_data_plus['feature_2'] = (imputed_training_data_plus['fare'] - imputed_training_data_plus['meter_waiting_fare'])/(imputed_training_data_plus['duration'] - imputed_training_data_plus['meter_waiting'])\n",
        "imputed_testing_data_plus['feature_2'] = (imputed_testing_data_plus['fare'] - imputed_testing_data_plus['meter_waiting_fare'])/(imputed_testing_data_plus['duration'] - imputed_testing_data_plus['meter_waiting'])"
      ],
      "execution_count": null,
      "outputs": []
    },
    {
      "cell_type": "code",
      "metadata": {
        "id": "Azg1mqxB1Bfq",
        "colab_type": "code",
        "colab": {}
      },
      "source": [
        "imputed_training_data_plus['feature_3'] = (imputed_training_data_plus['distance'])/(imputed_training_data_plus['duration'] - imputed_training_data_plus['meter_waiting'])\n",
        "imputed_testing_data_plus['feature_3'] = (imputed_testing_data_plus['distance'])/(imputed_testing_data_plus['duration'] - imputed_testing_data_plus['meter_waiting'])"
      ],
      "execution_count": null,
      "outputs": []
    },
    {
      "cell_type": "code",
      "metadata": {
        "id": "DvDv5Wa51Bp1",
        "colab_type": "code",
        "colab": {}
      },
      "source": [
        "imputed_training_data_plus['feature_4'] = (imputed_training_data_plus['meter_waiting'])/(imputed_training_data_plus['duration'])\n",
        "imputed_testing_data_plus['feature_4'] = (imputed_testing_data_plus['meter_waiting'])/(imputed_testing_data_plus['duration'])"
      ],
      "execution_count": null,
      "outputs": []
    },
    {
      "cell_type": "code",
      "metadata": {
        "id": "JHEz7zoC1ByG",
        "colab_type": "code",
        "colab": {}
      },
      "source": [
        "imputed_training_data_plus['feature_5'] = (imputed_training_data_plus['additional_fare'])/(imputed_training_data_plus['distance'])\n",
        "imputed_testing_data_plus['feature_5'] = (imputed_testing_data_plus['additional_fare'])/(imputed_testing_data_plus['distance'])"
      ],
      "execution_count": null,
      "outputs": []
    },
    {
      "cell_type": "code",
      "metadata": {
        "id": "Yd6DXxMC1nzn",
        "colab_type": "code",
        "colab": {}
      },
      "source": [
        "imputed_training_data_plus['feature_6'] = (imputed_training_data_plus['distance'])/(imputed_training_data_plus['fare'])\n",
        "imputed_testing_data_plus['feature_6'] = (imputed_testing_data_plus['distance'])/(imputed_testing_data_plus['fare'])"
      ],
      "execution_count": null,
      "outputs": []
    },
    {
      "cell_type": "code",
      "metadata": {
        "id": "m5QxpMeL16p7",
        "colab_type": "code",
        "colab": {}
      },
      "source": [
        "imputed_training_data_plus['feature_7'] = (imputed_training_data_plus['fare'] - imputed_training_data_plus['meter_waiting_fare'])/(imputed_training_data_plus['distance'])\n",
        "imputed_testing_data_plus['feature_7'] = (imputed_testing_data_plus['fare'] - imputed_testing_data_plus['meter_waiting_fare'])/(imputed_testing_data_plus['distance'])"
      ],
      "execution_count": null,
      "outputs": []
    },
    {
      "cell_type": "code",
      "metadata": {
        "id": "ZE-lgC4q9g5-",
        "colab_type": "code",
        "colab": {}
      },
      "source": [
        "# imputed_training_data_plus['feature_8'] = (imputed_training_data_plus['additional_fare'])/(imputed_training_data_plus['fare'])\n",
        "# imputed_testing_data_plus['feature_8'] = (imputed_testing_data_plus['additional_fare'])/(imputed_testing_data_plus['fare'])"
      ],
      "execution_count": null,
      "outputs": []
    },
    {
      "cell_type": "code",
      "metadata": {
        "id": "rxEYd9M19y6k",
        "colab_type": "code",
        "colab": {}
      },
      "source": [
        "# imputed_training_data_plus['feature_9'] = (imputed_training_data_plus['additional_fare'])/(imputed_training_data_plus['duration'])\n",
        "# imputed_testing_data_plus['feature_9'] = (imputed_testing_data_plus['additional_fare'])/(imputed_testing_data_plus['duration'])"
      ],
      "execution_count": null,
      "outputs": []
    },
    {
      "cell_type": "code",
      "metadata": {
        "id": "E9RxkAYlZN-l",
        "colab_type": "code",
        "colab": {}
      },
      "source": [
        "X_train_full, X_valid_full, y_train, y_valid = train_test_split(imputed_training_data_plus, training_labels, \n",
        "                                                                train_size=0.85, test_size=0.15,\n",
        "                                                                random_state=0)"
      ],
      "execution_count": null,
      "outputs": []
    },
    {
      "cell_type": "code",
      "metadata": {
        "id": "nRGHtZ5VGnFt",
        "colab_type": "code",
        "colab": {}
      },
      "source": [
        "############################################################################ Testing"
      ],
      "execution_count": null,
      "outputs": []
    },
    {
      "cell_type": "code",
      "metadata": {
        "id": "1seWwZ9RalQM",
        "colab_type": "code",
        "colab": {}
      },
      "source": [
        "# from sklearn.preprocessing import StandardScaler\n",
        "# from xgboost import XGBClassifier\n",
        "# from sklearn.ensemble import RandomForestClassifier, VotingClassifier\n",
        "# from sklearn.model_selection import cross_val_score\n",
        "# from sklearn.metrics import f1_score\n",
        "\n",
        "# def get_score_with_no_pipeline(n_estimators, l_rate, early):\n",
        "#   my_model = XGBClassifier(n_estimators=n_estimators, learning_rate=l_rate)\n",
        "#   my_model.fit(X_train_full, y_train, \n",
        "#              early_stopping_rounds=early, \n",
        "#              eval_set=[(X_valid_full, y_valid)],\n",
        "#              verbose=False)\n",
        "\n",
        "#   scores = my_model.predict(X_valid_full)\n",
        "#   f1 = f1_score(y_valid, scores)\n",
        "#   print(\"F1 score:\", f1)\n",
        "#   return f1"
      ],
      "execution_count": null,
      "outputs": []
    },
    {
      "cell_type": "code",
      "metadata": {
        "id": "L6wqIEfTWFaS",
        "colab_type": "code",
        "colab": {}
      },
      "source": [
        "# results = []\n",
        "# l_rates = [0.02, 0.05, 0.07, 0.09]\n",
        "# early_stop = [10, 30, 50, 70, 100, 150, 170, 200]\n",
        "# for l_rate in l_rates:\n",
        "#   print(\"L_rate:---------------------------------------------------------------\", l_rate)\n",
        "#   temptemp = []\n",
        "#   for early in early_stop:\n",
        "#     temp = {}\n",
        "#     print(\"early:-------------------------------------------------------------\", early)\n",
        "#     for i in range(350, 1450, 50):\n",
        "#       print(\"n_est:---------------------------------------------------\", i)\n",
        "#       temp[i] = get_score_with_no_pipeline(i, l_rate, early)\n",
        "#     temptemp.append(temp)\n",
        "#   results.append(temptemp)"
      ],
      "execution_count": null,
      "outputs": []
    },
    {
      "cell_type": "code",
      "metadata": {
        "id": "mw8dk1z7fGsp",
        "colab_type": "code",
        "colab": {}
      },
      "source": [
        "# import matplotlib.pyplot as plt\n",
        "# %matplotlib inline\n",
        "\n",
        "# for i in range(0, 8):\n",
        "#   plt.plot(list(results[0][i].keys()), list(results[0][i].values()))\n",
        "# plt.legend(['10', '30', '50', '70', '100', '150', '170', '200'], loc='lower right')\n",
        "# plt.show()"
      ],
      "execution_count": null,
      "outputs": []
    },
    {
      "cell_type": "code",
      "metadata": {
        "id": "m5FzUw1WfGvq",
        "colab_type": "code",
        "colab": {}
      },
      "source": [
        "#########################################################"
      ],
      "execution_count": null,
      "outputs": []
    },
    {
      "cell_type": "code",
      "metadata": {
        "id": "SlFuA2sJm5FI",
        "colab_type": "code",
        "colab": {}
      },
      "source": [
        "from xgboost import XGBClassifier                   #  with early stopping\n",
        "my_model = XGBClassifier(n_estimators=550, learning_rate=0.07)\n",
        "my_model.fit(X_train_full, y_train, \n",
        "             early_stopping_rounds=170, \n",
        "             eval_set=[(X_valid_full, y_valid)], \n",
        "             verbose=False)"
      ],
      "execution_count": null,
      "outputs": []
    },
    {
      "cell_type": "code",
      "metadata": {
        "id": "SVKilEPPClrs",
        "colab_type": "code",
        "colab": {}
      },
      "source": [
        "preds = my_model.predict(X_valid_full)"
      ],
      "execution_count": null,
      "outputs": []
    },
    {
      "cell_type": "code",
      "metadata": {
        "id": "qacgrSk6DHFY",
        "colab_type": "code",
        "colab": {}
      },
      "source": [
        "from sklearn.metrics import mean_absolute_error\n",
        "from sklearn.metrics import f1_score"
      ],
      "execution_count": null,
      "outputs": []
    },
    {
      "cell_type": "code",
      "metadata": {
        "id": "Qlf6rZfgDHIE",
        "colab_type": "code",
        "colab": {}
      },
      "source": [
        "score = mean_absolute_error(y_valid, preds)\n",
        "print('MAE:', score)"
      ],
      "execution_count": null,
      "outputs": []
    },
    {
      "cell_type": "code",
      "metadata": {
        "id": "_iwUrB2VpNHg",
        "colab_type": "code",
        "colab": {}
      },
      "source": [
        "f1 = f1_score(y_valid, preds)\n",
        "print(\"F1: \", f1)"
      ],
      "execution_count": null,
      "outputs": []
    },
    {
      "cell_type": "code",
      "metadata": {
        "id": "vpYy57gxDHKy",
        "colab_type": "code",
        "colab": {}
      },
      "source": [
        "test_preds=my_model.predict(imputed_testing_data_plus)"
      ],
      "execution_count": null,
      "outputs": []
    },
    {
      "cell_type": "code",
      "metadata": {
        "id": "coEU_P4hDHN9",
        "colab_type": "code",
        "colab": {}
      },
      "source": [
        "final_preds = pd.DataFrame(\n",
        "          {'prediction': test_preds}\n",
        ")"
      ],
      "execution_count": null,
      "outputs": []
    },
    {
      "cell_type": "code",
      "metadata": {
        "id": "v0ddXzDbKCba",
        "colab_type": "code",
        "colab": {}
      },
      "source": [
        "test_set_new = pd.read_csv('./test.csv')"
      ],
      "execution_count": null,
      "outputs": []
    },
    {
      "cell_type": "code",
      "metadata": {
        "id": "dTknTc2DKCeI",
        "colab_type": "code",
        "colab": {}
      },
      "source": [
        "final_preds.insert(0,'tripid',test_set_new.tripid.to_list(),True)"
      ],
      "execution_count": null,
      "outputs": []
    },
    {
      "cell_type": "code",
      "metadata": {
        "id": "ry_OJKFFKChL",
        "colab_type": "code",
        "colab": {}
      },
      "source": [
        "final_preds.to_csv('./final_preds.csv',index=False)"
      ],
      "execution_count": null,
      "outputs": []
    }
  ]
}